{
 "cells": [
  {
   "cell_type": "code",
   "execution_count": 5,
   "metadata": {},
   "outputs": [],
   "source": [
    "import sys\n",
    "sys.path.insert(0,'/home/jhon/Imagens/patankar-euler')\n",
    "\n",
    "from numerical_calculations import explicit_euler\n",
    "\n",
    "import numpy as np"
   ]
  },
  {
   "cell_type": "code",
   "execution_count": 3,
   "metadata": {},
   "outputs": [],
   "source": [
    "def lotka_volterra(z, a1, b1, a2, b2):\n",
    "    x1, x2 = z\n",
    "    dx1dt = a1 * x1 - b1 * x1 * x2\n",
    "    dx2dt = a2 * x2 * b2 - x1 * x2\n",
    "    return np.array([dxdt, dydt])"
   ]
  },
  {
   "cell_type": "code",
   "execution_count": 8,
   "metadata": {},
   "outputs": [],
   "source": [
    "a1,a2,b1,b2 = 0.1 , 0.1, 0.1, 0.12\n",
    "\n",
    "def f(t, x):\n",
    "    x = np.array([b1,b2])*x\n",
    "    return x\n",
    "\n",
    "def d(t,x):\n",
    "    x = np.array([a1, a2])*x[::-1]*x\n",
    "    return x\n",
    "\n",
    "def g(t,x):\n",
    "    x = np.array([sigma_1, sigma_2])*x\n",
    "    return x"
   ]
  },
  {
   "cell_type": "code",
   "execution_count": null,
   "metadata": {},
   "outputs": [],
   "source": [
    "times  "
   ]
  }
 ],
 "metadata": {
  "kernelspec": {
   "display_name": "base",
   "language": "python",
   "name": "python3"
  },
  "language_info": {
   "codemirror_mode": {
    "name": "ipython",
    "version": 3
   },
   "file_extension": ".py",
   "mimetype": "text/x-python",
   "name": "python",
   "nbconvert_exporter": "python",
   "pygments_lexer": "ipython3",
   "version": "3.10.14"
  }
 },
 "nbformat": 4,
 "nbformat_minor": 2
}
